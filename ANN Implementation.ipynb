{
 "cells": [
  {
   "cell_type": "markdown",
   "id": "b5f6a791",
   "metadata": {},
   "source": [
    "# ANN Implementation"
   ]
  },
  {
   "cell_type": "markdown",
   "id": "c8ae877f",
   "metadata": {},
   "source": [
    "Artificial Neural Network has three layers-\n",
    "\n",
    "Input Layer.\n",
    "Hidden Layer.\n",
    "Output Layer."
   ]
  },
  {
   "cell_type": "markdown",
   "id": "8fa1b537",
   "metadata": {},
   "source": [
    "Data is passed to the input layer. And then the input layer passed this data to the next layer, which is a hidden layer. The hidden layer performs certain operations. And pass the result to the output layer."
   ]
  },
  {
   "cell_type": "markdown",
   "id": "d4454608",
   "metadata": {},
   "source": [
    "# Input Layer"
   ]
  },
  {
   "cell_type": "markdown",
   "id": "f1a4085b",
   "metadata": {},
   "source": [
    "In terms of an artificial neural network, the input layer contains independent variables. So the independent variable 1, independent variable 2, and independent variable n."
   ]
  },
  {
   "cell_type": "markdown",
   "id": "c7bae725",
   "metadata": {},
   "source": [
    "The important thing you need to remember is that these independent variables are for one observation."
   ]
  },
  {
   "cell_type": "markdown",
   "id": "24abe706",
   "metadata": {},
   "source": [
    "Another important point you need to know is that you need to perform some standardization or normalization on these independent variables. It depends upon the scenario. The main purpose of doing standardization or normalization is to make all values in the same range."
   ]
  },
  {
   "cell_type": "markdown",
   "id": "0c94bb10",
   "metadata": {},
   "source": [
    "# Output Layer"
   ]
  },
  {
   "cell_type": "markdown",
   "id": "17093b5a",
   "metadata": {},
   "source": [
    "output value can be-\n",
    "\n",
    "Continous( Like price).\n",
    "Binary( in Yes/no form).\n",
    "Categorical variable."
   ]
  },
  {
   "cell_type": "markdown",
   "id": "d8077677",
   "metadata": {},
   "source": [
    "If the output value is categorical then the important thing is, in that case, your output value is not one. It may be more than one output value."
   ]
  },
  {
   "cell_type": "markdown",
   "id": "5ad25144",
   "metadata": {},
   "source": [
    "# Synapses"
   ]
  },
  {
   "cell_type": "markdown",
   "id": "c45c7840",
   "metadata": {},
   "source": [
    "Synapses are nothing but the connecting lines between two layers."
   ]
  },
  {
   "cell_type": "markdown",
   "id": "65b99dcf",
   "metadata": {},
   "source": [
    "In synapses, weights are assigned to each synapse. These weights are crucial for artificial neural networks work. Weights are how neural networks learn. By adjusting the weights neural network decides what signal is important and what signal is not important."
   ]
  },
  {
   "cell_type": "markdown",
   "id": "3969aee6",
   "metadata": {},
   "source": [
    "# Hidden Layer or Neuron"
   ]
  },
  {
   "cell_type": "markdown",
   "id": "371a068a",
   "metadata": {},
   "source": [
    "Inside the neurons, the two main important steps happen-\n",
    "\n",
    "Weighted Sum.\n",
    "Activation Function."
   ]
  },
  {
   "cell_type": "markdown",
   "id": "9256eb8f",
   "metadata": {},
   "source": [
    "The first step is the weighted sum, which means all of the weights assigned to the synapses are added with input values. Something like that-\n",
    "\n",
    "[ x1.w1+x2.w2+x3.w3+………………..Xn.Wn]"
   ]
  },
  {
   "cell_type": "markdown",
   "id": "cef6561a",
   "metadata": {},
   "source": [
    "After calculating the weighted sum, the activation function is applied to this weighted sum. And then the neuron decides whether to send this signal to the next layer or not."
   ]
  },
  {
   "cell_type": "markdown",
   "id": "1803ebf9",
   "metadata": {},
   "source": [
    "# Implementation Steps"
   ]
  },
  {
   "cell_type": "raw",
   "id": "64c4b00e",
   "metadata": {},
   "source": [
    "1.\tData Preprocessing\n",
    "a.\tImport the Libraries-\n",
    "b.\tLoad the Dataset\n",
    "c.\tSplit Dataset into X and Y\n",
    "d.\tEncode Categorical Data-\n",
    "e.\tSplit the X and Y Dataset into the Training set and Test set\n",
    "f.\tPerform Feature Scaling"
   ]
  },
  {
   "cell_type": "raw",
   "id": "a7cad448",
   "metadata": {},
   "source": [
    "2.\tBuild Artificial Neural Network\n",
    "a.\tImport the Keras libraries and packages\n",
    "b.\tInitialize the Artificial Neural Network\n",
    "c.\tAdd the input layer and the first hidden layer\n",
    "d.\tAdd the second hidden layer\n",
    "e.\tAdd the output layer"
   ]
  },
  {
   "cell_type": "raw",
   "id": "1a021a76",
   "metadata": {},
   "source": [
    "3.\tTrain the ANN\n",
    "a.\tCompile the ANN\n",
    "b.\tFit the ANN to the Training set\n",
    "4.\tPredict the Test Set Results-\n",
    "5.\tMake the Confusion Matrix"
   ]
  },
  {
   "cell_type": "markdown",
   "id": "e778ab86",
   "metadata": {},
   "source": [
    "# Importing Essenstial libraries"
   ]
  },
  {
   "cell_type": "code",
   "execution_count": 1,
   "id": "8c518cd7",
   "metadata": {},
   "outputs": [],
   "source": [
    "import keras\n",
    "from keras.models import Sequential\n",
    "from keras.layers import Dense"
   ]
  },
  {
   "cell_type": "markdown",
   "id": "92833467",
   "metadata": {},
   "source": [
    "# Initialize the Artificial Neural Network"
   ]
  },
  {
   "cell_type": "code",
   "execution_count": 2,
   "id": "cca18019",
   "metadata": {},
   "outputs": [],
   "source": [
    "classifier = Sequential()"
   ]
  },
  {
   "cell_type": "markdown",
   "id": "c3a41b48",
   "metadata": {},
   "source": [
    "The Sequential class allows us to build ANN but as a sequence of layers."
   ]
  },
  {
   "cell_type": "markdown",
   "id": "5d0091e4",
   "metadata": {},
   "source": [
    "# Add the input layer and the first hidden layer"
   ]
  },
  {
   "cell_type": "code",
   "execution_count": null,
   "id": "f7ec7268",
   "metadata": {},
   "outputs": [],
   "source": [
    "classifier.add(Dense(output_dim = 6, init = 'uniform', activation = 'relu', input_dim = 1))"
   ]
  },
  {
   "cell_type": "markdown",
   "id": "cf61ac84",
   "metadata": {},
   "source": [
    "Dense is the famous class in Tensorflow. Dense is used to add fully connected layer in ANN."
   ]
  },
  {
   "cell_type": "markdown",
   "id": "c5df29ab",
   "metadata": {},
   "source": [
    "“add” is the method in the Sequential Class. output_dim represents the number of hidden neurons in the hidden layer. But there is no rule of thumb for this. That’s why I used 6. You can use any other number and check."
   ]
  },
  {
   "cell_type": "markdown",
   "id": "d005a24b",
   "metadata": {},
   "source": [
    "The activation function in the hidden layer for a fully connected neural network should be the Rectifier Activation function. That’s why I use ‘relu’."
   ]
  },
  {
   "cell_type": "markdown",
   "id": "caa28f24",
   "metadata": {},
   "source": [
    "Our Input layer has 1 neurons. Why…?"
   ]
  },
  {
   "cell_type": "markdown",
   "id": "34fe2dd0",
   "metadata": {},
   "source": [
    "Because we have 1 independent variable."
   ]
  },
  {
   "cell_type": "markdown",
   "id": "d22d6145",
   "metadata": {},
   "source": [
    "That’s why input_dim = 1."
   ]
  },
  {
   "cell_type": "markdown",
   "id": "b200b1d7",
   "metadata": {},
   "source": [
    "Now we have built our first input layer and one hidden layer."
   ]
  },
  {
   "cell_type": "markdown",
   "id": "86ceee27",
   "metadata": {},
   "source": [
    "# Add the second hidden layer"
   ]
  },
  {
   "cell_type": "code",
   "execution_count": null,
   "id": "dcd9f682",
   "metadata": {},
   "outputs": [],
   "source": [
    "classifier.add(Dense(output_dim = 6, init = 'uniform', activation = 'relu'))"
   ]
  },
  {
   "cell_type": "markdown",
   "id": "699c7ac3",
   "metadata": {},
   "source": [
    "Here again, we are using 6 hidden neurons in the second hidden layer. Now we have added one input layer and two hidden layers. It’s time to add our output layer."
   ]
  },
  {
   "cell_type": "markdown",
   "id": "a60c879d",
   "metadata": {},
   "source": [
    "# Add the output layer"
   ]
  },
  {
   "cell_type": "code",
   "execution_count": null,
   "id": "6da50afd",
   "metadata": {},
   "outputs": [],
   "source": [
    "classifier.add(Dense(output_dim = 1, init = 'uniform', activation = 'sigmoid'))"
   ]
  },
  {
   "cell_type": "markdown",
   "id": "c2bd7b19",
   "metadata": {},
   "source": [
    "In output layer, we need 1 neuron. Why…?"
   ]
  },
  {
   "cell_type": "markdown",
   "id": "d79d79de",
   "metadata": {},
   "source": [
    "Because as you can see in the dataset, we have a dependent variable in Binary form. That means we have to predict in 0 or 1 form. That’s why only one neuron is required in the output layer."
   ]
  },
  {
   "cell_type": "markdown",
   "id": "c58746db",
   "metadata": {},
   "source": [
    "The next thing is Activation Function. In output layer, there should be Sigmoid activation function. Why…?"
   ]
  },
  {
   "cell_type": "markdown",
   "id": "bca26770",
   "metadata": {},
   "source": [
    "Because Sigmoid activation function allows not only predict but also provides the probability of customer leave the bank or not."
   ]
  },
  {
   "cell_type": "markdown",
   "id": "52d4c77c",
   "metadata": {},
   "source": [
    "# Train the ANN"
   ]
  },
  {
   "cell_type": "markdown",
   "id": "ad8278cf",
   "metadata": {},
   "source": [
    "# Compile the ANN"
   ]
  },
  {
   "cell_type": "code",
   "execution_count": null,
   "id": "7af3ad89",
   "metadata": {},
   "outputs": [],
   "source": [
    "classifier.compile(optimizer = 'adam', loss = 'binary_crossentropy', metrics = ['accuracy'])"
   ]
  },
  {
   "cell_type": "markdown",
   "id": "eba50d19",
   "metadata": {},
   "source": [
    "compile is a method of Tensorflow. “adam’ is the optimizer that can perform the stochastic gradient descent. The optimizer updates the weights during training and reduces the loss."
   ]
  },
  {
   "cell_type": "markdown",
   "id": "fc4d1d1c",
   "metadata": {},
   "source": [
    "For evaluating our ANN model, I am gonna use Accuracy metrics. And that’s why metrics = [‘accuracy’]."
   ]
  },
  {
   "cell_type": "markdown",
   "id": "f9df11f7",
   "metadata": {},
   "source": [
    "# Fit the ANN to the Training set"
   ]
  },
  {
   "cell_type": "code",
   "execution_count": null,
   "id": "0e5fd37d",
   "metadata": {},
   "outputs": [],
   "source": [
    "classifier.fit(X_train, y_train, batch_size = 10, nb_epoch = 100)"
   ]
  },
  {
   "cell_type": "markdown",
   "id": "a2e09632",
   "metadata": {},
   "source": [
    "Instead of comparing our prediction with real results one by one, it’s good to perform in a batch. That’s why I write batch_size = 10."
   ]
  },
  {
   "cell_type": "markdown",
   "id": "176e4e72",
   "metadata": {},
   "source": [
    "The neural network has to train on a certain number of epochs to improve the accuracy over time. So I decided the nb_epoch = 100. So when you run this code, you can see the accuracy in each epoch."
   ]
  },
  {
   "cell_type": "markdown",
   "id": "dda9dc21",
   "metadata": {},
   "source": [
    "# Predict the Test Set Results-"
   ]
  },
  {
   "cell_type": "code",
   "execution_count": null,
   "id": "d1f94db0",
   "metadata": {},
   "outputs": [],
   "source": [
    "y_pred = classifier.predict(X_test)\n",
    "y_pred = (y_pred > 0.5)"
   ]
  },
  {
   "cell_type": "markdown",
   "id": "7607f47c",
   "metadata": {},
   "source": [
    "y_pred > 0.5 means if y-pred is in between 0 to 0.5, then this new y_pred will become 0(False). And if y_pred is larger than 0.5, then new y_pred will become 1(True)."
   ]
  },
  {
   "cell_type": "markdown",
   "id": "8beae35b",
   "metadata": {},
   "source": [
    "# Make the Confusion Matrix"
   ]
  },
  {
   "cell_type": "markdown",
   "id": "b4f4c61f",
   "metadata": {},
   "source": [
    "For a small dataset, you can predict values. But when we have a large dataset, it’s quite impossible. And that’s why we use a confusion matrix, to clear our confusion."
   ]
  },
  {
   "cell_type": "code",
   "execution_count": null,
   "id": "d99a1516",
   "metadata": {},
   "outputs": [],
   "source": [
    "from sklearn.metrics import confusion_matrix, accuracy_score\n",
    "cm = confusion_matrix(y_test, y_pred)\n",
    "print(cm)\n",
    "accuracy_score(y_test,y_pred)"
   ]
  },
  {
   "cell_type": "markdown",
   "id": "d8462701",
   "metadata": {},
   "source": [
    "# how to choose Activation Function?"
   ]
  },
  {
   "cell_type": "markdown",
   "id": "0bbbb446",
   "metadata": {},
   "source": [
    "### Case 1- For Binary Variables"
   ]
  },
  {
   "cell_type": "markdown",
   "id": "0bc91e60",
   "metadata": {},
   "source": [
    "Suppose when your independent variable or input signal is in binary format (Y=0 or 1) which means in the form of 0 or 1. So in that case which activation function you should use?"
   ]
  },
  {
   "cell_type": "markdown",
   "id": "c64a182d",
   "metadata": {},
   "source": [
    "So the answer is there are 2 options that you can approach with this. One is the Threshold Function because it is between 0 and 1. Therefore it fits properly and gives the result only in 0 or 1 form."
   ]
  },
  {
   "cell_type": "markdown",
   "id": "84d1060f",
   "metadata": {},
   "source": [
    "The second option is the Sigmoid Function. It is also between 0 and 1 just you need. But at the same time, you want just 0 or 1, therefore it is not exactly what you want. So in this case what you can do is just use it as the probability of Y being yes or no. And you can say that the sigmoid function tells you the probability of Y is equal to 1. Basically the closer you get to the top the more likely it is 1 or yes rather than a no or 0."
   ]
  },
  {
   "cell_type": "markdown",
   "id": "08a2e919",
   "metadata": {},
   "source": [
    "### Case-2-Categorical Variables"
   ]
  },
  {
   "cell_type": "markdown",
   "id": "2a675034",
   "metadata": {},
   "source": [
    "Here, in the first layer, we have some inputs. They are sent off to our first hidden layer and then the activation function is applied. So usually the activation function applied mostly is Rectifier Function. After applying the Rectifier function the signals pass on to the output layer. And in the output layer, Sigmoid Function is applied. After that, you get your final output."
   ]
  },
  {
   "cell_type": "markdown",
   "id": "83eed575",
   "metadata": {},
   "source": [
    "So this combination is very common in neural networks. That means –"
   ]
  },
  {
   "cell_type": "markdown",
   "id": "644b671a",
   "metadata": {},
   "source": [
    "Hidden Layer- Rectifier Function."
   ]
  },
  {
   "cell_type": "markdown",
   "id": "909f38be",
   "metadata": {},
   "source": [
    "Output Layer- Sigmoid Function."
   ]
  },
  {
   "cell_type": "markdown",
   "id": "6916dee6",
   "metadata": {},
   "source": [
    "#### Rectifier Function-"
   ]
  },
  {
   "cell_type": "markdown",
   "id": "783b4b4e",
   "metadata": {},
   "source": [
    "Rectifier Function is one of the most popular functions in artificial neural networks even though it has a kink in the curve."
   ]
  },
  {
   "cell_type": "markdown",
   "id": "85ef2a81",
   "metadata": {},
   "source": [
    "φ (x) =max(x,0)"
   ]
  },
  {
   "cell_type": "markdown",
   "id": "59b0dfc3",
   "metadata": {},
   "source": [
    "Rectifier Function goes all the way to 0 and then from 0 it’s gradually progressing as the input value increase."
   ]
  },
  {
   "cell_type": "markdown",
   "id": "28c3ebe4",
   "metadata": {},
   "source": [
    "In the hidden layer, mostly rectifier function is used."
   ]
  },
  {
   "cell_type": "markdown",
   "id": "bf91f6d8",
   "metadata": {},
   "source": [
    "#### Sigmoid Function-"
   ]
  },
  {
   "cell_type": "markdown",
   "id": "3f697d7d",
   "metadata": {},
   "source": [
    "Sigmoid Function Looks something like that-"
   ]
  },
  {
   "cell_type": "markdown",
   "id": "53c7497f",
   "metadata": {},
   "source": [
    "φ (x) = 1/ 1+ e-x"
   ]
  },
  {
   "cell_type": "markdown",
   "id": "472594f0",
   "metadata": {},
   "source": [
    "In that case, x is the value of the weighted sum. This is the function used in Logistic Regression."
   ]
  },
  {
   "cell_type": "markdown",
   "id": "f12e39f9",
   "metadata": {},
   "source": [
    "It is a nice and smooth gradual progression. So anything below 0 is just like drop off and above 0 acts approximates towards 1."
   ]
  },
  {
   "cell_type": "markdown",
   "id": "d2af57f6",
   "metadata": {},
   "source": [
    "The sigmoid function is very useful in the final layer that is the output layer. Especially when you are trying to predict the probabilities."
   ]
  },
  {
   "cell_type": "markdown",
   "id": "0f325376",
   "metadata": {},
   "source": [
    "#### Threshold Function-"
   ]
  },
  {
   "cell_type": "markdown",
   "id": "3883a0a5",
   "metadata": {},
   "source": [
    "In the threshold function, on the X-axis, you have a weighted sum. And on the Y-axis you have the values between 0 and 1. Basically a threshold function is very simple kind of function. The formula of threshold function is-"
   ]
  },
  {
   "cell_type": "markdown",
   "id": "d23b7629",
   "metadata": {},
   "source": [
    "φ (x)={ 1 if x>=0 and 0 if x<0}"
   ]
  },
  {
   "cell_type": "markdown",
   "id": "62d81771",
   "metadata": {},
   "source": [
    "According to the threshold function, if the value is less than 0, so the threshold function passes on 0. And if the value is greater than 0 or equal to 0, then the threshold passes on 1. The threshold function is a kind of Yes/ No function. It is a very straight forward function."
   ]
  }
 ],
 "metadata": {
  "kernelspec": {
   "display_name": "Python 3 (ipykernel)",
   "language": "python",
   "name": "python3"
  },
  "language_info": {
   "codemirror_mode": {
    "name": "ipython",
    "version": 3
   },
   "file_extension": ".py",
   "mimetype": "text/x-python",
   "name": "python",
   "nbconvert_exporter": "python",
   "pygments_lexer": "ipython3",
   "version": "3.9.12"
  }
 },
 "nbformat": 4,
 "nbformat_minor": 5
}
